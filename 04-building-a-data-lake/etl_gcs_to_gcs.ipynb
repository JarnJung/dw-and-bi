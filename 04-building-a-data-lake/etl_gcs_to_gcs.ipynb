{
 "cells": [
  {
   "cell_type": "markdown",
   "metadata": {
    "id": "CjT9V2iG4Lnv"
   },
   "source": [
    "### Import Library"
   ]
  },
  {
   "cell_type": "code",
   "execution_count": 1,
   "metadata": {
    "executionInfo": {
     "elapsed": 940,
     "status": "ok",
     "timestamp": 1711709788134,
     "user": {
      "displayName": "Piyanat Thepsueb",
      "userId": "10421023849786557238"
     },
     "user_tz": -420
    },
    "id": "jCmRIvpOB91m"
   },
   "outputs": [],
   "source": [
    "import os\n",
    "\n",
    "import pandas as pd\n",
    "from pyspark import SparkConf\n",
    "from pyspark.sql import SparkSession"
   ]
  },
  {
   "cell_type": "markdown",
   "metadata": {
    "id": "JA7H27ju4VYt"
   },
   "source": [
    "**Create Variables for Credentials**"
   ]
  },
  {
   "cell_type": "code",
   "execution_count": 2,
   "metadata": {
    "executionInfo": {
     "elapsed": 343,
     "status": "ok",
     "timestamp": 1711709816589,
     "user": {
      "displayName": "Piyanat Thepsueb",
      "userId": "10421023849786557238"
     },
     "user_tz": -420
    },
    "id": "_S2L9JEJDMUa"
   },
   "outputs": [],
   "source": [
    "SERVICE_ACCOUNT_EMAIL = \"ds525-dw-04-datalake-sa@ds525-dw.iam.gserviceaccount.com\"\n",
    "KEYFILE_PATH = \"credentials/ds525-dw-654a5027256c.json\""
   ]
  },
  {
   "cell_type": "markdown",
   "metadata": {
    "id": "kWQEA1MU4duV"
   },
   "source": [
    "**Create variables for Directories**"
   ]
  },
  {
   "cell_type": "code",
   "execution_count": 3,
   "metadata": {
    "executionInfo": {
     "elapsed": 566,
     "status": "ok",
     "timestamp": 1711709821000,
     "user": {
      "displayName": "Piyanat Thepsueb",
      "userId": "10421023849786557238"
     },
     "user_tz": -420
    },
    "id": "Z-D8xumJDdS0"
   },
   "outputs": [],
   "source": [
    "bucket = \"gs://ds525-dw-04-datalake-49\"\n",
    "landing_zone = f\"{bucket}/landing\"\n",
    "cleaned_zone_csv = f\"{bucket}/cleaned_csv\"\n",
    "cleaned_zone_parquet = f\"{bucket}/cleaned_parquet\"\n",
    "events_dir = f\"{bucket}/events\""
   ]
  },
  {
   "cell_type": "markdown",
   "metadata": {
    "id": "EUt9Fulg4vpV"
   },
   "source": [
    "**Set OS environment variable with credentials key**"
   ]
  },
  {
   "cell_type": "code",
   "execution_count": 4,
   "metadata": {
    "executionInfo": {
     "elapsed": 336,
     "status": "ok",
     "timestamp": 1711709823371,
     "user": {
      "displayName": "Piyanat Thepsueb",
      "userId": "10421023849786557238"
     },
     "user_tz": -420
    },
    "id": "raizg1LMDj-k"
   },
   "outputs": [],
   "source": [
    "os.environ['GOOGLE_APPLICATION_CREDENTIALS'] = KEYFILE_PATH"
   ]
  },
  {
   "cell_type": "markdown",
   "metadata": {
    "id": "-DChDtN05Aiu"
   },
   "source": [
    "### Spark Config"
   ]
  },
  {
   "cell_type": "code",
   "execution_count": 5,
   "metadata": {
    "colab": {
     "base_uri": "https://localhost:8080/"
    },
    "executionInfo": {
     "elapsed": 2,
     "status": "ok",
     "timestamp": 1711709825835,
     "user": {
      "displayName": "Piyanat Thepsueb",
      "userId": "10421023849786557238"
     },
     "user_tz": -420
    },
    "id": "8XNvC9J6I8xn",
    "outputId": "67a120fe-4fa4-4ab8-b9a2-03fa19a2784d"
   },
   "outputs": [
    {
     "data": {
      "text/plain": [
       "<pyspark.conf.SparkConf at 0x7fb09133c110>"
      ]
     },
     "execution_count": 5,
     "metadata": {},
     "output_type": "execute_result"
    }
   ],
   "source": [
    "conf = SparkConf()\n",
    "conf.set(\"spark.jars\", \"https://storage.googleapis.com/hadoop-lib/gcs/gcs-connector-hadoop3-latest.jar\")"
   ]
  },
  {
   "cell_type": "code",
   "execution_count": 6,
   "metadata": {
    "colab": {
     "base_uri": "https://localhost:8080/"
    },
    "executionInfo": {
     "elapsed": 331,
     "status": "ok",
     "timestamp": 1711709831440,
     "user": {
      "displayName": "Piyanat Thepsueb",
      "userId": "10421023849786557238"
     },
     "user_tz": -420
    },
    "id": "q1K59h6SQ11n",
    "outputId": "12efda55-54af-4259-c792-60264b66e2e9"
   },
   "outputs": [
    {
     "data": {
      "text/plain": [
       "<pyspark.conf.SparkConf at 0x7fb09133c110>"
      ]
     },
     "execution_count": 6,
     "metadata": {},
     "output_type": "execute_result"
    }
   ],
   "source": [
    "conf.set(\"spark.sql.repl.eagerEval.enabled\", True)"
   ]
  },
  {
   "cell_type": "code",
   "execution_count": 7,
   "metadata": {
    "executionInfo": {
     "elapsed": 11390,
     "status": "ok",
     "timestamp": 1711709847779,
     "user": {
      "displayName": "Piyanat Thepsueb",
      "userId": "10421023849786557238"
     },
     "user_tz": -420
    },
    "id": "jKpvrLZIQ5l-"
   },
   "outputs": [],
   "source": [
    "spark = SparkSession.builder.config(conf=conf).getOrCreate()"
   ]
  },
  {
   "cell_type": "markdown",
   "metadata": {
    "id": "u1Ug89ts5eNX"
   },
   "source": [
    "## Spark for Data Processing"
   ]
  },
  {
   "cell_type": "markdown",
   "metadata": {
    "id": "NZUukUfT5Lod"
   },
   "source": [
    "### Test Connection to Google Cloud Service\n",
    "\n",
    "by read a json file in some bucket"
   ]
  },
  {
   "cell_type": "code",
   "execution_count": 8,
   "metadata": {
    "executionInfo": {
     "elapsed": 563,
     "status": "ok",
     "timestamp": 1711709858586,
     "user": {
      "displayName": "Piyanat Thepsueb",
      "userId": "10421023849786557238"
     },
     "user_tz": -420
    },
    "id": "F1hcm_ZMENi0"
   },
   "outputs": [
    {
     "name": "stdout",
     "output_type": "stream",
     "text": [
      "gs://ds525-dw-04-datalake-49/landing\n"
     ]
    }
   ],
   "source": [
    "print(f\"{landing_zone}\")"
   ]
  },
  {
   "cell_type": "code",
   "execution_count": 9,
   "metadata": {
    "executionInfo": {
     "elapsed": 534,
     "status": "ok",
     "timestamp": 1711709859119,
     "user": {
      "displayName": "Piyanat Thepsueb",
      "userId": "10421023849786557238"
     },
     "user_tz": -420
    },
    "id": "dX7cBi74Dj48"
   },
   "outputs": [],
   "source": [
    "#Read JSON data from GCS\n",
    "df1 = pd.read_json(f\"{landing_zone}/github_events_01.json\")"
   ]
  },
  {
   "cell_type": "code",
   "execution_count": 10,
   "metadata": {
    "executionInfo": {
     "elapsed": 1,
     "status": "ok",
     "timestamp": 1711709859119,
     "user": {
      "displayName": "Piyanat Thepsueb",
      "userId": "10421023849786557238"
     },
     "user_tz": -420
    },
    "id": "EBkviHShDj2D"
   },
   "outputs": [
    {
     "data": {
      "text/html": [
       "<div>\n",
       "<style scoped>\n",
       "    .dataframe tbody tr th:only-of-type {\n",
       "        vertical-align: middle;\n",
       "    }\n",
       "\n",
       "    .dataframe tbody tr th {\n",
       "        vertical-align: top;\n",
       "    }\n",
       "\n",
       "    .dataframe thead th {\n",
       "        text-align: right;\n",
       "    }\n",
       "</style>\n",
       "<table border=\"1\" class=\"dataframe\">\n",
       "  <thead>\n",
       "    <tr style=\"text-align: right;\">\n",
       "      <th></th>\n",
       "      <th>id</th>\n",
       "      <th>type</th>\n",
       "      <th>actor</th>\n",
       "      <th>repo</th>\n",
       "      <th>payload</th>\n",
       "      <th>public</th>\n",
       "      <th>created_at</th>\n",
       "      <th>org</th>\n",
       "    </tr>\n",
       "  </thead>\n",
       "  <tbody>\n",
       "    <tr>\n",
       "      <th>0</th>\n",
       "      <td>23487929637</td>\n",
       "      <td>IssueCommentEvent</td>\n",
       "      <td>{'id': 1696078, 'login': 'sukhada', 'display_l...</td>\n",
       "      <td>{'id': 75340147, 'name': '350org/ak_intl_v3', ...</td>\n",
       "      <td>{'action': 'created', 'issue': {'url': 'https:...</td>\n",
       "      <td>True</td>\n",
       "      <td>2022-08-17 15:51:05+00:00</td>\n",
       "      <td>{'id': 24305026, 'login': '350org', 'gravatar_...</td>\n",
       "    </tr>\n",
       "    <tr>\n",
       "      <th>1</th>\n",
       "      <td>23487929676</td>\n",
       "      <td>PushEvent</td>\n",
       "      <td>{'id': 66924041, 'login': 'yousabu', 'display_...</td>\n",
       "      <td>{'id': 525526680, 'name': 'yousabu/ansible_rhc...</td>\n",
       "      <td>{'push_id': 10754961780, 'size': 1, 'distinct_...</td>\n",
       "      <td>True</td>\n",
       "      <td>2022-08-17 15:51:05+00:00</td>\n",
       "      <td>NaN</td>\n",
       "    </tr>\n",
       "    <tr>\n",
       "      <th>2</th>\n",
       "      <td>23487929674</td>\n",
       "      <td>PushEvent</td>\n",
       "      <td>{'id': 74971347, 'login': 'MathisGD', 'display...</td>\n",
       "      <td>{'id': 512700417, 'name': 'morpho-dao/morpho-u...</td>\n",
       "      <td>{'push_id': 10754961752, 'size': 1, 'distinct_...</td>\n",
       "      <td>True</td>\n",
       "      <td>2022-08-17 15:51:05+00:00</td>\n",
       "      <td>{'id': 106303238, 'login': 'morpho-dao', 'grav...</td>\n",
       "    </tr>\n",
       "    <tr>\n",
       "      <th>3</th>\n",
       "      <td>23487929661</td>\n",
       "      <td>PushEvent</td>\n",
       "      <td>{'id': 91143053, 'login': 'BR-Junior', 'displa...</td>\n",
       "      <td>{'id': 525851446, 'name': 'BR-Junior/crud-com-...</td>\n",
       "      <td>{'push_id': 10754961791, 'size': 1, 'distinct_...</td>\n",
       "      <td>True</td>\n",
       "      <td>2022-08-17 15:51:05+00:00</td>\n",
       "      <td>NaN</td>\n",
       "    </tr>\n",
       "    <tr>\n",
       "      <th>4</th>\n",
       "      <td>23487929682</td>\n",
       "      <td>PushEvent</td>\n",
       "      <td>{'id': 60825784, 'login': 'predictcrypto', 'di...</td>\n",
       "      <td>{'id': 505029866, 'name': 'predictcrypto/pins'...</td>\n",
       "      <td>{'push_id': 10754961801, 'size': 1, 'distinct_...</td>\n",
       "      <td>True</td>\n",
       "      <td>2022-08-17 15:51:05+00:00</td>\n",
       "      <td>NaN</td>\n",
       "    </tr>\n",
       "    <tr>\n",
       "      <th>5</th>\n",
       "      <td>23487929673</td>\n",
       "      <td>PushEvent</td>\n",
       "      <td>{'id': 102357035, 'login': 'kazukimikami', 'di...</td>\n",
       "      <td>{'id': 525845306, 'name': 'kazukimikami/reserv...</td>\n",
       "      <td>{'push_id': 10754961758, 'size': 1, 'distinct_...</td>\n",
       "      <td>True</td>\n",
       "      <td>2022-08-17 15:51:05+00:00</td>\n",
       "      <td>NaN</td>\n",
       "    </tr>\n",
       "    <tr>\n",
       "      <th>6</th>\n",
       "      <td>23487929588</td>\n",
       "      <td>PushEvent</td>\n",
       "      <td>{'id': 46447321, 'login': 'allcontributors[bot...</td>\n",
       "      <td>{'id': 274724694, 'name': 'dendronhq/dendron',...</td>\n",
       "      <td>{'push_id': 10754961749, 'size': 1, 'distinct_...</td>\n",
       "      <td>True</td>\n",
       "      <td>2022-08-17 15:51:05+00:00</td>\n",
       "      <td>{'id': 66193563, 'login': 'dendronhq', 'gravat...</td>\n",
       "    </tr>\n",
       "    <tr>\n",
       "      <th>7</th>\n",
       "      <td>23487929636</td>\n",
       "      <td>CreateEvent</td>\n",
       "      <td>{'id': 41898282, 'login': 'github-actions[bot]...</td>\n",
       "      <td>{'id': 523780252, 'name': 'tiller1010/silverst...</td>\n",
       "      <td>{'ref': '1.3.7', 'ref_type': 'tag', 'master_br...</td>\n",
       "      <td>True</td>\n",
       "      <td>2022-08-17 15:51:05+00:00</td>\n",
       "      <td>NaN</td>\n",
       "    </tr>\n",
       "    <tr>\n",
       "      <th>8</th>\n",
       "      <td>23487929580</td>\n",
       "      <td>IssuesEvent</td>\n",
       "      <td>{'id': 21972349, 'login': 'sozysozbot', 'displ...</td>\n",
       "      <td>{'id': 524701461, 'name': 'sozysozbot/mikanos'...</td>\n",
       "      <td>{'action': 'opened', 'issue': {'url': 'https:/...</td>\n",
       "      <td>True</td>\n",
       "      <td>2022-08-17 15:51:05+00:00</td>\n",
       "      <td>NaN</td>\n",
       "    </tr>\n",
       "    <tr>\n",
       "      <th>9</th>\n",
       "      <td>23487929591</td>\n",
       "      <td>PushEvent</td>\n",
       "      <td>{'id': 17869732, 'login': 'moiify', 'display_l...</td>\n",
       "      <td>{'id': 164541747, 'name': 'moiify/AutoGreen', ...</td>\n",
       "      <td>{'push_id': 10754961756, 'size': 1, 'distinct_...</td>\n",
       "      <td>True</td>\n",
       "      <td>2022-08-17 15:51:05+00:00</td>\n",
       "      <td>NaN</td>\n",
       "    </tr>\n",
       "  </tbody>\n",
       "</table>\n",
       "</div>"
      ],
      "text/plain": [
       "            id               type  \\\n",
       "0  23487929637  IssueCommentEvent   \n",
       "1  23487929676          PushEvent   \n",
       "2  23487929674          PushEvent   \n",
       "3  23487929661          PushEvent   \n",
       "4  23487929682          PushEvent   \n",
       "5  23487929673          PushEvent   \n",
       "6  23487929588          PushEvent   \n",
       "7  23487929636        CreateEvent   \n",
       "8  23487929580        IssuesEvent   \n",
       "9  23487929591          PushEvent   \n",
       "\n",
       "                                               actor  \\\n",
       "0  {'id': 1696078, 'login': 'sukhada', 'display_l...   \n",
       "1  {'id': 66924041, 'login': 'yousabu', 'display_...   \n",
       "2  {'id': 74971347, 'login': 'MathisGD', 'display...   \n",
       "3  {'id': 91143053, 'login': 'BR-Junior', 'displa...   \n",
       "4  {'id': 60825784, 'login': 'predictcrypto', 'di...   \n",
       "5  {'id': 102357035, 'login': 'kazukimikami', 'di...   \n",
       "6  {'id': 46447321, 'login': 'allcontributors[bot...   \n",
       "7  {'id': 41898282, 'login': 'github-actions[bot]...   \n",
       "8  {'id': 21972349, 'login': 'sozysozbot', 'displ...   \n",
       "9  {'id': 17869732, 'login': 'moiify', 'display_l...   \n",
       "\n",
       "                                                repo  \\\n",
       "0  {'id': 75340147, 'name': '350org/ak_intl_v3', ...   \n",
       "1  {'id': 525526680, 'name': 'yousabu/ansible_rhc...   \n",
       "2  {'id': 512700417, 'name': 'morpho-dao/morpho-u...   \n",
       "3  {'id': 525851446, 'name': 'BR-Junior/crud-com-...   \n",
       "4  {'id': 505029866, 'name': 'predictcrypto/pins'...   \n",
       "5  {'id': 525845306, 'name': 'kazukimikami/reserv...   \n",
       "6  {'id': 274724694, 'name': 'dendronhq/dendron',...   \n",
       "7  {'id': 523780252, 'name': 'tiller1010/silverst...   \n",
       "8  {'id': 524701461, 'name': 'sozysozbot/mikanos'...   \n",
       "9  {'id': 164541747, 'name': 'moiify/AutoGreen', ...   \n",
       "\n",
       "                                             payload  public  \\\n",
       "0  {'action': 'created', 'issue': {'url': 'https:...    True   \n",
       "1  {'push_id': 10754961780, 'size': 1, 'distinct_...    True   \n",
       "2  {'push_id': 10754961752, 'size': 1, 'distinct_...    True   \n",
       "3  {'push_id': 10754961791, 'size': 1, 'distinct_...    True   \n",
       "4  {'push_id': 10754961801, 'size': 1, 'distinct_...    True   \n",
       "5  {'push_id': 10754961758, 'size': 1, 'distinct_...    True   \n",
       "6  {'push_id': 10754961749, 'size': 1, 'distinct_...    True   \n",
       "7  {'ref': '1.3.7', 'ref_type': 'tag', 'master_br...    True   \n",
       "8  {'action': 'opened', 'issue': {'url': 'https:/...    True   \n",
       "9  {'push_id': 10754961756, 'size': 1, 'distinct_...    True   \n",
       "\n",
       "                 created_at                                                org  \n",
       "0 2022-08-17 15:51:05+00:00  {'id': 24305026, 'login': '350org', 'gravatar_...  \n",
       "1 2022-08-17 15:51:05+00:00                                                NaN  \n",
       "2 2022-08-17 15:51:05+00:00  {'id': 106303238, 'login': 'morpho-dao', 'grav...  \n",
       "3 2022-08-17 15:51:05+00:00                                                NaN  \n",
       "4 2022-08-17 15:51:05+00:00                                                NaN  \n",
       "5 2022-08-17 15:51:05+00:00                                                NaN  \n",
       "6 2022-08-17 15:51:05+00:00  {'id': 66193563, 'login': 'dendronhq', 'gravat...  \n",
       "7 2022-08-17 15:51:05+00:00                                                NaN  \n",
       "8 2022-08-17 15:51:05+00:00                                                NaN  \n",
       "9 2022-08-17 15:51:05+00:00                                                NaN  "
      ]
     },
     "execution_count": 10,
     "metadata": {},
     "output_type": "execute_result"
    }
   ],
   "source": [
    "df1.head(10)"
   ]
  },
  {
   "cell_type": "markdown",
   "metadata": {
    "id": "I7rtHdrl5dHf"
   },
   "source": [
    "### Use Spark to read all files in 'landing_zone' Directory\n"
   ]
  },
  {
   "cell_type": "code",
   "execution_count": 11,
   "metadata": {
    "executionInfo": {
     "elapsed": 31057,
     "status": "ok",
     "timestamp": 1711709890982,
     "user": {
      "displayName": "Piyanat Thepsueb",
      "userId": "10421023849786557238"
     },
     "user_tz": -420
    },
    "id": "P1GU20uaDjzL"
   },
   "outputs": [],
   "source": [
    "data = spark.read.option(\"multiline\", \"true\").json(f\"{landing_zone}\")"
   ]
  },
  {
   "cell_type": "code",
   "execution_count": 12,
   "metadata": {
    "colab": {
     "base_uri": "https://localhost:8080/"
    },
    "executionInfo": {
     "elapsed": 10286,
     "status": "ok",
     "timestamp": 1711709901267,
     "user": {
      "displayName": "Piyanat Thepsueb",
      "userId": "10421023849786557238"
     },
     "user_tz": -420
    },
    "id": "zbPe4sdBU8EH",
    "outputId": "dfb097ef-1efb-4440-f82e-bb15a6d401ed"
   },
   "outputs": [
    {
     "name": "stdout",
     "output_type": "stream",
     "text": [
      "+--------------------+--------------------+-----------+--------------------+--------------------+------+--------------------+--------------------+\n",
      "|               actor|          created_at|         id|                 org|             payload|public|                repo|                type|\n",
      "+--------------------+--------------------+-----------+--------------------+--------------------+------+--------------------+--------------------+\n",
      "|{https://avatars....|2022-08-17T15:53:42Z|23487985360|                NULL|{NULL, c61cf9149b...|  true|{523499555, emine...|           PushEvent|\n",
      "|{https://avatars....|2022-08-17T15:50:35Z|23487985346|{https://avatars....|{created, NULL, {...|  true|{47574295, cncf/t...|PullRequestReview...|\n",
      "|{https://avatars....|2022-08-17T15:53:42Z|23487985321|{https://avatars....|{created, NULL, N...|  true|{47574295, cncf/t...|PullRequestReview...|\n",
      "|{https://avatars....|2022-08-17T15:53:42Z|23487985350|                NULL|{created, NULL, N...|  true|{518116339, Hatth...|PullRequestReview...|\n",
      "|{https://avatars....|2022-08-17T15:24:44Z|23487985373|                NULL|{created, NULL, {...|  true|{518116339, Hatth...|PullRequestReview...|\n",
      "|{https://avatars....|2022-08-17T15:23:27Z|23487985331|                NULL|{created, NULL, {...|  true|{518116339, Hatth...|PullRequestReview...|\n",
      "|{https://avatars....|2022-08-17T15:53:42Z|23487985353|                NULL|{opened, NULL, NU...|  true|{294616630, alexi...|         IssuesEvent|\n",
      "|{https://avatars....|2022-08-17T15:53:42Z|23487985271|                NULL|{NULL, 3546fc9c00...|  true|{348289466, vacse...|           PushEvent|\n",
      "|{https://avatars....|2022-08-17T15:53:42Z|23487985289|{https://avatars....|{NULL, e361b1650a...|  true|{525468623, IOTJu...|           PushEvent|\n",
      "|{https://avatars....|2022-08-17T15:53:42Z|23487985292|{https://avatars....|{started, NULL, N...|  true|{7895941, scala-g...|          WatchEvent|\n",
      "|{https://avatars....|2022-08-17T15:53:42Z|23487985343|{https://avatars....|{started, NULL, N...|  true|{496556366, hackc...|          WatchEvent|\n",
      "|{https://avatars....|2022-08-17T15:53:42Z|23487985312|{https://avatars....|{closed, NULL, NU...|  true|{181560846, tesse...|         IssuesEvent|\n",
      "|{https://avatars....|2022-08-17T15:24:10Z|23487985326|                NULL|{created, NULL, {...|  true|{518116339, Hatth...|PullRequestReview...|\n",
      "|{https://avatars....|2022-08-17T15:53:42Z|23487985276|                NULL|{NULL, 73a9ef0e68...|  true|{522104148, Vlynn...|           PushEvent|\n",
      "|{https://avatars....|2022-08-17T15:53:42Z|23487985280|                NULL|{NULL, d38f2d5d44...|  true|{513139142, svilk...|           PushEvent|\n",
      "|{https://avatars....|2022-08-17T15:53:42Z|23487985281|                NULL|{NULL, 304bfafffc...|  true|{523970273, restl...|           PushEvent|\n",
      "|{https://avatars....|2022-08-17T15:53:42Z|23487985272|                NULL|{NULL, 6fe128d984...|  true|{525129775, marku...|           PushEvent|\n",
      "|{https://avatars....|2022-08-17T15:53:42Z|23487985270|                NULL|{NULL, NULL, NULL...|  true|{525861309, laure...|         CreateEvent|\n",
      "|{https://avatars....|2022-08-17T15:53:42Z|23487985293|                NULL|{closed, NULL, NU...|  true|{477668666, spdtf...|    PullRequestEvent|\n",
      "|{https://avatars....|2022-08-17T15:53:42Z|23487985250|{https://avatars....|{created, NULL, N...|  true|{47574295, cncf/t...|PullRequestReview...|\n",
      "+--------------------+--------------------+-----------+--------------------+--------------------+------+--------------------+--------------------+\n",
      "only showing top 20 rows\n",
      "\n"
     ]
    }
   ],
   "source": [
    "data.show()"
   ]
  },
  {
   "cell_type": "code",
   "execution_count": 13,
   "metadata": {
    "colab": {
     "base_uri": "https://localhost:8080/"
    },
    "executionInfo": {
     "elapsed": 4,
     "status": "ok",
     "timestamp": 1711709901267,
     "user": {
      "displayName": "Piyanat Thepsueb",
      "userId": "10421023849786557238"
     },
     "user_tz": -420
    },
    "id": "R6CTUXemRcWO",
    "outputId": "aec2d1f8-92df-41f8-f8d9-aa922040805b",
    "scrolled": true
   },
   "outputs": [
    {
     "name": "stdout",
     "output_type": "stream",
     "text": [
      "root\n",
      " |-- actor: struct (nullable = true)\n",
      " |    |-- avatar_url: string (nullable = true)\n",
      " |    |-- display_login: string (nullable = true)\n",
      " |    |-- gravatar_id: string (nullable = true)\n",
      " |    |-- id: long (nullable = true)\n",
      " |    |-- login: string (nullable = true)\n",
      " |    |-- url: string (nullable = true)\n",
      " |-- created_at: string (nullable = true)\n",
      " |-- id: string (nullable = true)\n",
      " |-- org: struct (nullable = true)\n",
      " |    |-- avatar_url: string (nullable = true)\n",
      " |    |-- gravatar_id: string (nullable = true)\n",
      " |    |-- id: long (nullable = true)\n",
      " |    |-- login: string (nullable = true)\n",
      " |    |-- url: string (nullable = true)\n",
      " |-- payload: struct (nullable = true)\n",
      " |    |-- action: string (nullable = true)\n",
      " |    |-- before: string (nullable = true)\n",
      " |    |-- comment: struct (nullable = true)\n",
      " |    |    |-- _links: struct (nullable = true)\n",
      " |    |    |    |-- html: struct (nullable = true)\n",
      " |    |    |    |    |-- href: string (nullable = true)\n",
      " |    |    |    |-- pull_request: struct (nullable = true)\n",
      " |    |    |    |    |-- href: string (nullable = true)\n",
      " |    |    |    |-- self: struct (nullable = true)\n",
      " |    |    |    |    |-- href: string (nullable = true)\n",
      " |    |    |-- author_association: string (nullable = true)\n",
      " |    |    |-- body: string (nullable = true)\n",
      " |    |    |-- commit_id: string (nullable = true)\n",
      " |    |    |-- created_at: string (nullable = true)\n",
      " |    |    |-- diff_hunk: string (nullable = true)\n",
      " |    |    |-- html_url: string (nullable = true)\n",
      " |    |    |-- id: long (nullable = true)\n",
      " |    |    |-- issue_url: string (nullable = true)\n",
      " |    |    |-- line: long (nullable = true)\n",
      " |    |    |-- node_id: string (nullable = true)\n",
      " |    |    |-- original_commit_id: string (nullable = true)\n",
      " |    |    |-- original_line: long (nullable = true)\n",
      " |    |    |-- original_position: long (nullable = true)\n",
      " |    |    |-- original_start_line: string (nullable = true)\n",
      " |    |    |-- path: string (nullable = true)\n",
      " |    |    |-- performed_via_github_app: string (nullable = true)\n",
      " |    |    |-- position: long (nullable = true)\n",
      " |    |    |-- pull_request_review_id: long (nullable = true)\n",
      " |    |    |-- pull_request_url: string (nullable = true)\n",
      " |    |    |-- reactions: struct (nullable = true)\n",
      " |    |    |    |-- +1: long (nullable = true)\n",
      " |    |    |    |-- -1: long (nullable = true)\n",
      " |    |    |    |-- confused: long (nullable = true)\n",
      " |    |    |    |-- eyes: long (nullable = true)\n",
      " |    |    |    |-- heart: long (nullable = true)\n",
      " |    |    |    |-- hooray: long (nullable = true)\n",
      " |    |    |    |-- laugh: long (nullable = true)\n",
      " |    |    |    |-- rocket: long (nullable = true)\n",
      " |    |    |    |-- total_count: long (nullable = true)\n",
      " |    |    |    |-- url: string (nullable = true)\n",
      " |    |    |-- side: string (nullable = true)\n",
      " |    |    |-- start_line: string (nullable = true)\n",
      " |    |    |-- start_side: string (nullable = true)\n",
      " |    |    |-- updated_at: string (nullable = true)\n",
      " |    |    |-- url: string (nullable = true)\n",
      " |    |    |-- user: struct (nullable = true)\n",
      " |    |    |    |-- avatar_url: string (nullable = true)\n",
      " |    |    |    |-- events_url: string (nullable = true)\n",
      " |    |    |    |-- followers_url: string (nullable = true)\n",
      " |    |    |    |-- following_url: string (nullable = true)\n",
      " |    |    |    |-- gists_url: string (nullable = true)\n",
      " |    |    |    |-- gravatar_id: string (nullable = true)\n",
      " |    |    |    |-- html_url: string (nullable = true)\n",
      " |    |    |    |-- id: long (nullable = true)\n",
      " |    |    |    |-- login: string (nullable = true)\n",
      " |    |    |    |-- node_id: string (nullable = true)\n",
      " |    |    |    |-- organizations_url: string (nullable = true)\n",
      " |    |    |    |-- received_events_url: string (nullable = true)\n",
      " |    |    |    |-- repos_url: string (nullable = true)\n",
      " |    |    |    |-- site_admin: boolean (nullable = true)\n",
      " |    |    |    |-- starred_url: string (nullable = true)\n",
      " |    |    |    |-- subscriptions_url: string (nullable = true)\n",
      " |    |    |    |-- type: string (nullable = true)\n",
      " |    |    |    |-- url: string (nullable = true)\n",
      " |    |-- commits: array (nullable = true)\n",
      " |    |    |-- element: struct (containsNull = true)\n",
      " |    |    |    |-- author: struct (nullable = true)\n",
      " |    |    |    |    |-- email: string (nullable = true)\n",
      " |    |    |    |    |-- name: string (nullable = true)\n",
      " |    |    |    |-- distinct: boolean (nullable = true)\n",
      " |    |    |    |-- message: string (nullable = true)\n",
      " |    |    |    |-- sha: string (nullable = true)\n",
      " |    |    |    |-- url: string (nullable = true)\n",
      " |    |-- description: string (nullable = true)\n",
      " |    |-- distinct_size: long (nullable = true)\n",
      " |    |-- head: string (nullable = true)\n",
      " |    |-- issue: struct (nullable = true)\n",
      " |    |    |-- active_lock_reason: string (nullable = true)\n",
      " |    |    |-- assignee: struct (nullable = true)\n",
      " |    |    |    |-- avatar_url: string (nullable = true)\n",
      " |    |    |    |-- events_url: string (nullable = true)\n",
      " |    |    |    |-- followers_url: string (nullable = true)\n",
      " |    |    |    |-- following_url: string (nullable = true)\n",
      " |    |    |    |-- gists_url: string (nullable = true)\n",
      " |    |    |    |-- gravatar_id: string (nullable = true)\n",
      " |    |    |    |-- html_url: string (nullable = true)\n",
      " |    |    |    |-- id: long (nullable = true)\n",
      " |    |    |    |-- login: string (nullable = true)\n",
      " |    |    |    |-- node_id: string (nullable = true)\n",
      " |    |    |    |-- organizations_url: string (nullable = true)\n",
      " |    |    |    |-- received_events_url: string (nullable = true)\n",
      " |    |    |    |-- repos_url: string (nullable = true)\n",
      " |    |    |    |-- site_admin: boolean (nullable = true)\n",
      " |    |    |    |-- starred_url: string (nullable = true)\n",
      " |    |    |    |-- subscriptions_url: string (nullable = true)\n",
      " |    |    |    |-- type: string (nullable = true)\n",
      " |    |    |    |-- url: string (nullable = true)\n",
      " |    |    |-- assignees: array (nullable = true)\n",
      " |    |    |    |-- element: struct (containsNull = true)\n",
      " |    |    |    |    |-- avatar_url: string (nullable = true)\n",
      " |    |    |    |    |-- events_url: string (nullable = true)\n",
      " |    |    |    |    |-- followers_url: string (nullable = true)\n",
      " |    |    |    |    |-- following_url: string (nullable = true)\n",
      " |    |    |    |    |-- gists_url: string (nullable = true)\n",
      " |    |    |    |    |-- gravatar_id: string (nullable = true)\n",
      " |    |    |    |    |-- html_url: string (nullable = true)\n",
      " |    |    |    |    |-- id: long (nullable = true)\n",
      " |    |    |    |    |-- login: string (nullable = true)\n",
      " |    |    |    |    |-- node_id: string (nullable = true)\n",
      " |    |    |    |    |-- organizations_url: string (nullable = true)\n",
      " |    |    |    |    |-- received_events_url: string (nullable = true)\n",
      " |    |    |    |    |-- repos_url: string (nullable = true)\n",
      " |    |    |    |    |-- site_admin: boolean (nullable = true)\n",
      " |    |    |    |    |-- starred_url: string (nullable = true)\n",
      " |    |    |    |    |-- subscriptions_url: string (nullable = true)\n",
      " |    |    |    |    |-- type: string (nullable = true)\n",
      " |    |    |    |    |-- url: string (nullable = true)\n",
      " |    |    |-- author_association: string (nullable = true)\n",
      " |    |    |-- body: string (nullable = true)\n",
      " |    |    |-- closed_at: string (nullable = true)\n",
      " |    |    |-- comments: long (nullable = true)\n",
      " |    |    |-- comments_url: string (nullable = true)\n",
      " |    |    |-- created_at: string (nullable = true)\n",
      " |    |    |-- draft: boolean (nullable = true)\n",
      " |    |    |-- events_url: string (nullable = true)\n",
      " |    |    |-- html_url: string (nullable = true)\n",
      " |    |    |-- id: long (nullable = true)\n",
      " |    |    |-- labels: array (nullable = true)\n",
      " |    |    |    |-- element: struct (containsNull = true)\n",
      " |    |    |    |    |-- color: string (nullable = true)\n",
      " |    |    |    |    |-- default: boolean (nullable = true)\n",
      " |    |    |    |    |-- description: string (nullable = true)\n",
      " |    |    |    |    |-- id: long (nullable = true)\n",
      " |    |    |    |    |-- name: string (nullable = true)\n",
      " |    |    |    |    |-- node_id: string (nullable = true)\n",
      " |    |    |    |    |-- url: string (nullable = true)\n",
      " |    |    |-- labels_url: string (nullable = true)\n",
      " |    |    |-- locked: boolean (nullable = true)\n",
      " |    |    |-- milestone: struct (nullable = true)\n",
      " |    |    |    |-- closed_at: string (nullable = true)\n",
      " |    |    |    |-- closed_issues: long (nullable = true)\n",
      " |    |    |    |-- created_at: string (nullable = true)\n",
      " |    |    |    |-- creator: struct (nullable = true)\n",
      " |    |    |    |    |-- avatar_url: string (nullable = true)\n",
      " |    |    |    |    |-- events_url: string (nullable = true)\n",
      " |    |    |    |    |-- followers_url: string (nullable = true)\n",
      " |    |    |    |    |-- following_url: string (nullable = true)\n",
      " |    |    |    |    |-- gists_url: string (nullable = true)\n",
      " |    |    |    |    |-- gravatar_id: string (nullable = true)\n",
      " |    |    |    |    |-- html_url: string (nullable = true)\n",
      " |    |    |    |    |-- id: long (nullable = true)\n",
      " |    |    |    |    |-- login: string (nullable = true)\n",
      " |    |    |    |    |-- node_id: string (nullable = true)\n",
      " |    |    |    |    |-- organizations_url: string (nullable = true)\n",
      " |    |    |    |    |-- received_events_url: string (nullable = true)\n",
      " |    |    |    |    |-- repos_url: string (nullable = true)\n",
      " |    |    |    |    |-- site_admin: boolean (nullable = true)\n",
      " |    |    |    |    |-- starred_url: string (nullable = true)\n",
      " |    |    |    |    |-- subscriptions_url: string (nullable = true)\n",
      " |    |    |    |    |-- type: string (nullable = true)\n",
      " |    |    |    |    |-- url: string (nullable = true)\n",
      " |    |    |    |-- description: string (nullable = true)\n",
      " |    |    |    |-- due_on: string (nullable = true)\n",
      " |    |    |    |-- html_url: string (nullable = true)\n",
      " |    |    |    |-- id: long (nullable = true)\n",
      " |    |    |    |-- labels_url: string (nullable = true)\n",
      " |    |    |    |-- node_id: string (nullable = true)\n",
      " |    |    |    |-- number: long (nullable = true)\n",
      " |    |    |    |-- open_issues: long (nullable = true)\n",
      " |    |    |    |-- state: string (nullable = true)\n",
      " |    |    |    |-- title: string (nullable = true)\n",
      " |    |    |    |-- updated_at: string (nullable = true)\n",
      " |    |    |    |-- url: string (nullable = true)\n",
      " |    |    |-- node_id: string (nullable = true)\n",
      " |    |    |-- number: long (nullable = true)\n",
      " |    |    |-- performed_via_github_app: string (nullable = true)\n",
      " |    |    |-- pull_request: struct (nullable = true)\n",
      " |    |    |    |-- diff_url: string (nullable = true)\n",
      " |    |    |    |-- html_url: string (nullable = true)\n",
      " |    |    |    |-- merged_at: string (nullable = true)\n",
      " |    |    |    |-- patch_url: string (nullable = true)\n",
      " |    |    |    |-- url: string (nullable = true)\n",
      " |    |    |-- reactions: struct (nullable = true)\n",
      " |    |    |    |-- +1: long (nullable = true)\n",
      " |    |    |    |-- -1: long (nullable = true)\n",
      " |    |    |    |-- confused: long (nullable = true)\n",
      " |    |    |    |-- eyes: long (nullable = true)\n",
      " |    |    |    |-- heart: long (nullable = true)\n",
      " |    |    |    |-- hooray: long (nullable = true)\n",
      " |    |    |    |-- laugh: long (nullable = true)\n",
      " |    |    |    |-- rocket: long (nullable = true)\n",
      " |    |    |    |-- total_count: long (nullable = true)\n",
      " |    |    |    |-- url: string (nullable = true)\n",
      " |    |    |-- repository_url: string (nullable = true)\n",
      " |    |    |-- state: string (nullable = true)\n",
      " |    |    |-- state_reason: string (nullable = true)\n",
      " |    |    |-- timeline_url: string (nullable = true)\n",
      " |    |    |-- title: string (nullable = true)\n",
      " |    |    |-- updated_at: string (nullable = true)\n",
      " |    |    |-- url: string (nullable = true)\n",
      " |    |    |-- user: struct (nullable = true)\n",
      " |    |    |    |-- avatar_url: string (nullable = true)\n",
      " |    |    |    |-- events_url: string (nullable = true)\n",
      " |    |    |    |-- followers_url: string (nullable = true)\n",
      " |    |    |    |-- following_url: string (nullable = true)\n",
      " |    |    |    |-- gists_url: string (nullable = true)\n",
      " |    |    |    |-- gravatar_id: string (nullable = true)\n",
      " |    |    |    |-- html_url: string (nullable = true)\n",
      " |    |    |    |-- id: long (nullable = true)\n",
      " |    |    |    |-- login: string (nullable = true)\n",
      " |    |    |    |-- node_id: string (nullable = true)\n",
      " |    |    |    |-- organizations_url: string (nullable = true)\n",
      " |    |    |    |-- received_events_url: string (nullable = true)\n",
      " |    |    |    |-- repos_url: string (nullable = true)\n",
      " |    |    |    |-- site_admin: boolean (nullable = true)\n",
      " |    |    |    |-- starred_url: string (nullable = true)\n",
      " |    |    |    |-- subscriptions_url: string (nullable = true)\n",
      " |    |    |    |-- type: string (nullable = true)\n",
      " |    |    |    |-- url: string (nullable = true)\n",
      " |    |-- master_branch: string (nullable = true)\n",
      " |    |-- number: long (nullable = true)\n",
      " |    |-- pull_request: struct (nullable = true)\n",
      " |    |    |-- _links: struct (nullable = true)\n",
      " |    |    |    |-- comments: struct (nullable = true)\n",
      " |    |    |    |    |-- href: string (nullable = true)\n",
      " |    |    |    |-- commits: struct (nullable = true)\n",
      " |    |    |    |    |-- href: string (nullable = true)\n",
      " |    |    |    |-- html: struct (nullable = true)\n",
      " |    |    |    |    |-- href: string (nullable = true)\n",
      " |    |    |    |-- issue: struct (nullable = true)\n",
      " |    |    |    |    |-- href: string (nullable = true)\n",
      " |    |    |    |-- review_comment: struct (nullable = true)\n",
      " |    |    |    |    |-- href: string (nullable = true)\n",
      " |    |    |    |-- review_comments: struct (nullable = true)\n",
      " |    |    |    |    |-- href: string (nullable = true)\n",
      " |    |    |    |-- self: struct (nullable = true)\n",
      " |    |    |    |    |-- href: string (nullable = true)\n",
      " |    |    |    |-- statuses: struct (nullable = true)\n",
      " |    |    |    |    |-- href: string (nullable = true)\n",
      " |    |    |-- active_lock_reason: string (nullable = true)\n",
      " |    |    |-- additions: long (nullable = true)\n",
      " |    |    |-- assignee: struct (nullable = true)\n",
      " |    |    |    |-- avatar_url: string (nullable = true)\n",
      " |    |    |    |-- events_url: string (nullable = true)\n",
      " |    |    |    |-- followers_url: string (nullable = true)\n",
      " |    |    |    |-- following_url: string (nullable = true)\n",
      " |    |    |    |-- gists_url: string (nullable = true)\n",
      " |    |    |    |-- gravatar_id: string (nullable = true)\n",
      " |    |    |    |-- html_url: string (nullable = true)\n",
      " |    |    |    |-- id: long (nullable = true)\n",
      " |    |    |    |-- login: string (nullable = true)\n",
      " |    |    |    |-- node_id: string (nullable = true)\n",
      " |    |    |    |-- organizations_url: string (nullable = true)\n",
      " |    |    |    |-- received_events_url: string (nullable = true)\n",
      " |    |    |    |-- repos_url: string (nullable = true)\n",
      " |    |    |    |-- site_admin: boolean (nullable = true)\n",
      " |    |    |    |-- starred_url: string (nullable = true)\n",
      " |    |    |    |-- subscriptions_url: string (nullable = true)\n",
      " |    |    |    |-- type: string (nullable = true)\n",
      " |    |    |    |-- url: string (nullable = true)\n",
      " |    |    |-- assignees: array (nullable = true)\n",
      " |    |    |    |-- element: struct (containsNull = true)\n",
      " |    |    |    |    |-- avatar_url: string (nullable = true)\n",
      " |    |    |    |    |-- events_url: string (nullable = true)\n",
      " |    |    |    |    |-- followers_url: string (nullable = true)\n",
      " |    |    |    |    |-- following_url: string (nullable = true)\n",
      " |    |    |    |    |-- gists_url: string (nullable = true)\n",
      " |    |    |    |    |-- gravatar_id: string (nullable = true)\n",
      " |    |    |    |    |-- html_url: string (nullable = true)\n",
      " |    |    |    |    |-- id: long (nullable = true)\n",
      " |    |    |    |    |-- login: string (nullable = true)\n",
      " |    |    |    |    |-- node_id: string (nullable = true)\n",
      " |    |    |    |    |-- organizations_url: string (nullable = true)\n",
      " |    |    |    |    |-- received_events_url: string (nullable = true)\n",
      " |    |    |    |    |-- repos_url: string (nullable = true)\n",
      " |    |    |    |    |-- site_admin: boolean (nullable = true)\n",
      " |    |    |    |    |-- starred_url: string (nullable = true)\n",
      " |    |    |    |    |-- subscriptions_url: string (nullable = true)\n",
      " |    |    |    |    |-- type: string (nullable = true)\n",
      " |    |    |    |    |-- url: string (nullable = true)\n",
      " |    |    |-- author_association: string (nullable = true)\n",
      " |    |    |-- auto_merge: string (nullable = true)\n",
      " |    |    |-- base: struct (nullable = true)\n",
      " |    |    |    |-- label: string (nullable = true)\n",
      " |    |    |    |-- ref: string (nullable = true)\n",
      " |    |    |    |-- repo: struct (nullable = true)\n",
      " |    |    |    |    |-- allow_forking: boolean (nullable = true)\n",
      " |    |    |    |    |-- archive_url: string (nullable = true)\n",
      " |    |    |    |    |-- archived: boolean (nullable = true)\n",
      " |    |    |    |    |-- assignees_url: string (nullable = true)\n",
      " |    |    |    |    |-- blobs_url: string (nullable = true)\n",
      " |    |    |    |    |-- branches_url: string (nullable = true)\n",
      " |    |    |    |    |-- clone_url: string (nullable = true)\n",
      " |    |    |    |    |-- collaborators_url: string (nullable = true)\n",
      " |    |    |    |    |-- comments_url: string (nullable = true)\n",
      " |    |    |    |    |-- commits_url: string (nullable = true)\n",
      " |    |    |    |    |-- compare_url: string (nullable = true)\n",
      " |    |    |    |    |-- contents_url: string (nullable = true)\n",
      " |    |    |    |    |-- contributors_url: string (nullable = true)\n",
      " |    |    |    |    |-- created_at: string (nullable = true)\n",
      " |    |    |    |    |-- default_branch: string (nullable = true)\n",
      " |    |    |    |    |-- deployments_url: string (nullable = true)\n",
      " |    |    |    |    |-- description: string (nullable = true)\n",
      " |    |    |    |    |-- disabled: boolean (nullable = true)\n",
      " |    |    |    |    |-- downloads_url: string (nullable = true)\n",
      " |    |    |    |    |-- events_url: string (nullable = true)\n",
      " |    |    |    |    |-- fork: boolean (nullable = true)\n",
      " |    |    |    |    |-- forks: long (nullable = true)\n",
      " |    |    |    |    |-- forks_count: long (nullable = true)\n",
      " |    |    |    |    |-- forks_url: string (nullable = true)\n",
      " |    |    |    |    |-- full_name: string (nullable = true)\n",
      " |    |    |    |    |-- git_commits_url: string (nullable = true)\n",
      " |    |    |    |    |-- git_refs_url: string (nullable = true)\n",
      " |    |    |    |    |-- git_tags_url: string (nullable = true)\n",
      " |    |    |    |    |-- git_url: string (nullable = true)\n",
      " |    |    |    |    |-- has_downloads: boolean (nullable = true)\n",
      " |    |    |    |    |-- has_issues: boolean (nullable = true)\n",
      " |    |    |    |    |-- has_pages: boolean (nullable = true)\n",
      " |    |    |    |    |-- has_projects: boolean (nullable = true)\n",
      " |    |    |    |    |-- has_wiki: boolean (nullable = true)\n",
      " |    |    |    |    |-- homepage: string (nullable = true)\n",
      " |    |    |    |    |-- hooks_url: string (nullable = true)\n",
      " |    |    |    |    |-- html_url: string (nullable = true)\n",
      " |    |    |    |    |-- id: long (nullable = true)\n",
      " |    |    |    |    |-- is_template: boolean (nullable = true)\n",
      " |    |    |    |    |-- issue_comment_url: string (nullable = true)\n",
      " |    |    |    |    |-- issue_events_url: string (nullable = true)\n",
      " |    |    |    |    |-- issues_url: string (nullable = true)\n",
      " |    |    |    |    |-- keys_url: string (nullable = true)\n",
      " |    |    |    |    |-- labels_url: string (nullable = true)\n",
      " |    |    |    |    |-- language: string (nullable = true)\n",
      " |    |    |    |    |-- languages_url: string (nullable = true)\n",
      " |    |    |    |    |-- license: struct (nullable = true)\n",
      " |    |    |    |    |    |-- key: string (nullable = true)\n",
      " |    |    |    |    |    |-- name: string (nullable = true)\n",
      " |    |    |    |    |    |-- node_id: string (nullable = true)\n",
      " |    |    |    |    |    |-- spdx_id: string (nullable = true)\n",
      " |    |    |    |    |    |-- url: string (nullable = true)\n",
      " |    |    |    |    |-- merges_url: string (nullable = true)\n",
      " |    |    |    |    |-- milestones_url: string (nullable = true)\n",
      " |    |    |    |    |-- mirror_url: string (nullable = true)\n",
      " |    |    |    |    |-- name: string (nullable = true)\n",
      " |    |    |    |    |-- node_id: string (nullable = true)\n",
      " |    |    |    |    |-- notifications_url: string (nullable = true)\n",
      " |    |    |    |    |-- open_issues: long (nullable = true)\n",
      " |    |    |    |    |-- open_issues_count: long (nullable = true)\n",
      " |    |    |    |    |-- owner: struct (nullable = true)\n",
      " |    |    |    |    |    |-- avatar_url: string (nullable = true)\n",
      " |    |    |    |    |    |-- events_url: string (nullable = true)\n",
      " |    |    |    |    |    |-- followers_url: string (nullable = true)\n",
      " |    |    |    |    |    |-- following_url: string (nullable = true)\n",
      " |    |    |    |    |    |-- gists_url: string (nullable = true)\n",
      " |    |    |    |    |    |-- gravatar_id: string (nullable = true)\n",
      " |    |    |    |    |    |-- html_url: string (nullable = true)\n",
      " |    |    |    |    |    |-- id: long (nullable = true)\n",
      " |    |    |    |    |    |-- login: string (nullable = true)\n",
      " |    |    |    |    |    |-- node_id: string (nullable = true)\n",
      " |    |    |    |    |    |-- organizations_url: string (nullable = true)\n",
      " |    |    |    |    |    |-- received_events_url: string (nullable = true)\n",
      " |    |    |    |    |    |-- repos_url: string (nullable = true)\n",
      " |    |    |    |    |    |-- site_admin: boolean (nullable = true)\n",
      " |    |    |    |    |    |-- starred_url: string (nullable = true)\n",
      " |    |    |    |    |    |-- subscriptions_url: string (nullable = true)\n",
      " |    |    |    |    |    |-- type: string (nullable = true)\n",
      " |    |    |    |    |    |-- url: string (nullable = true)\n",
      " |    |    |    |    |-- private: boolean (nullable = true)\n",
      " |    |    |    |    |-- pulls_url: string (nullable = true)\n",
      " |    |    |    |    |-- pushed_at: string (nullable = true)\n",
      " |    |    |    |    |-- releases_url: string (nullable = true)\n",
      " |    |    |    |    |-- size: long (nullable = true)\n",
      " |    |    |    |    |-- ssh_url: string (nullable = true)\n",
      " |    |    |    |    |-- stargazers_count: long (nullable = true)\n",
      " |    |    |    |    |-- stargazers_url: string (nullable = true)\n",
      " |    |    |    |    |-- statuses_url: string (nullable = true)\n",
      " |    |    |    |    |-- subscribers_url: string (nullable = true)\n",
      " |    |    |    |    |-- subscription_url: string (nullable = true)\n",
      " |    |    |    |    |-- svn_url: string (nullable = true)\n",
      " |    |    |    |    |-- tags_url: string (nullable = true)\n",
      " |    |    |    |    |-- teams_url: string (nullable = true)\n",
      " |    |    |    |    |-- topics: array (nullable = true)\n",
      " |    |    |    |    |    |-- element: string (containsNull = true)\n",
      " |    |    |    |    |-- trees_url: string (nullable = true)\n",
      " |    |    |    |    |-- updated_at: string (nullable = true)\n",
      " |    |    |    |    |-- url: string (nullable = true)\n",
      " |    |    |    |    |-- visibility: string (nullable = true)\n",
      " |    |    |    |    |-- watchers: long (nullable = true)\n",
      " |    |    |    |    |-- watchers_count: long (nullable = true)\n",
      " |    |    |    |    |-- web_commit_signoff_required: boolean (nullable = true)\n",
      " |    |    |    |-- sha: string (nullable = true)\n",
      " |    |    |    |-- user: struct (nullable = true)\n",
      " |    |    |    |    |-- avatar_url: string (nullable = true)\n",
      " |    |    |    |    |-- events_url: string (nullable = true)\n",
      " |    |    |    |    |-- followers_url: string (nullable = true)\n",
      " |    |    |    |    |-- following_url: string (nullable = true)\n",
      " |    |    |    |    |-- gists_url: string (nullable = true)\n",
      " |    |    |    |    |-- gravatar_id: string (nullable = true)\n",
      " |    |    |    |    |-- html_url: string (nullable = true)\n",
      " |    |    |    |    |-- id: long (nullable = true)\n",
      " |    |    |    |    |-- login: string (nullable = true)\n",
      " |    |    |    |    |-- node_id: string (nullable = true)\n",
      " |    |    |    |    |-- organizations_url: string (nullable = true)\n",
      " |    |    |    |    |-- received_events_url: string (nullable = true)\n",
      " |    |    |    |    |-- repos_url: string (nullable = true)\n",
      " |    |    |    |    |-- site_admin: boolean (nullable = true)\n",
      " |    |    |    |    |-- starred_url: string (nullable = true)\n",
      " |    |    |    |    |-- subscriptions_url: string (nullable = true)\n",
      " |    |    |    |    |-- type: string (nullable = true)\n",
      " |    |    |    |    |-- url: string (nullable = true)\n",
      " |    |    |-- body: string (nullable = true)\n",
      " |    |    |-- changed_files: long (nullable = true)\n",
      " |    |    |-- closed_at: string (nullable = true)\n",
      " |    |    |-- comments: long (nullable = true)\n",
      " |    |    |-- comments_url: string (nullable = true)\n",
      " |    |    |-- commits: long (nullable = true)\n",
      " |    |    |-- commits_url: string (nullable = true)\n",
      " |    |    |-- created_at: string (nullable = true)\n",
      " |    |    |-- deletions: long (nullable = true)\n",
      " |    |    |-- diff_url: string (nullable = true)\n",
      " |    |    |-- draft: boolean (nullable = true)\n",
      " |    |    |-- head: struct (nullable = true)\n",
      " |    |    |    |-- label: string (nullable = true)\n",
      " |    |    |    |-- ref: string (nullable = true)\n",
      " |    |    |    |-- repo: struct (nullable = true)\n",
      " |    |    |    |    |-- allow_forking: boolean (nullable = true)\n",
      " |    |    |    |    |-- archive_url: string (nullable = true)\n",
      " |    |    |    |    |-- archived: boolean (nullable = true)\n",
      " |    |    |    |    |-- assignees_url: string (nullable = true)\n",
      " |    |    |    |    |-- blobs_url: string (nullable = true)\n",
      " |    |    |    |    |-- branches_url: string (nullable = true)\n",
      " |    |    |    |    |-- clone_url: string (nullable = true)\n",
      " |    |    |    |    |-- collaborators_url: string (nullable = true)\n",
      " |    |    |    |    |-- comments_url: string (nullable = true)\n",
      " |    |    |    |    |-- commits_url: string (nullable = true)\n",
      " |    |    |    |    |-- compare_url: string (nullable = true)\n",
      " |    |    |    |    |-- contents_url: string (nullable = true)\n",
      " |    |    |    |    |-- contributors_url: string (nullable = true)\n",
      " |    |    |    |    |-- created_at: string (nullable = true)\n",
      " |    |    |    |    |-- default_branch: string (nullable = true)\n",
      " |    |    |    |    |-- deployments_url: string (nullable = true)\n",
      " |    |    |    |    |-- description: string (nullable = true)\n",
      " |    |    |    |    |-- disabled: boolean (nullable = true)\n",
      " |    |    |    |    |-- downloads_url: string (nullable = true)\n",
      " |    |    |    |    |-- events_url: string (nullable = true)\n",
      " |    |    |    |    |-- fork: boolean (nullable = true)\n",
      " |    |    |    |    |-- forks: long (nullable = true)\n",
      " |    |    |    |    |-- forks_count: long (nullable = true)\n",
      " |    |    |    |    |-- forks_url: string (nullable = true)\n",
      " |    |    |    |    |-- full_name: string (nullable = true)\n",
      " |    |    |    |    |-- git_commits_url: string (nullable = true)\n",
      " |    |    |    |    |-- git_refs_url: string (nullable = true)\n",
      " |    |    |    |    |-- git_tags_url: string (nullable = true)\n",
      " |    |    |    |    |-- git_url: string (nullable = true)\n",
      " |    |    |    |    |-- has_downloads: boolean (nullable = true)\n",
      " |    |    |    |    |-- has_issues: boolean (nullable = true)\n",
      " |    |    |    |    |-- has_pages: boolean (nullable = true)\n",
      " |    |    |    |    |-- has_projects: boolean (nullable = true)\n",
      " |    |    |    |    |-- has_wiki: boolean (nullable = true)\n",
      " |    |    |    |    |-- homepage: string (nullable = true)\n",
      " |    |    |    |    |-- hooks_url: string (nullable = true)\n",
      " |    |    |    |    |-- html_url: string (nullable = true)\n",
      " |    |    |    |    |-- id: long (nullable = true)\n",
      " |    |    |    |    |-- is_template: boolean (nullable = true)\n",
      " |    |    |    |    |-- issue_comment_url: string (nullable = true)\n",
      " |    |    |    |    |-- issue_events_url: string (nullable = true)\n",
      " |    |    |    |    |-- issues_url: string (nullable = true)\n",
      " |    |    |    |    |-- keys_url: string (nullable = true)\n",
      " |    |    |    |    |-- labels_url: string (nullable = true)\n",
      " |    |    |    |    |-- language: string (nullable = true)\n",
      " |    |    |    |    |-- languages_url: string (nullable = true)\n",
      " |    |    |    |    |-- license: struct (nullable = true)\n",
      " |    |    |    |    |    |-- key: string (nullable = true)\n",
      " |    |    |    |    |    |-- name: string (nullable = true)\n",
      " |    |    |    |    |    |-- node_id: string (nullable = true)\n",
      " |    |    |    |    |    |-- spdx_id: string (nullable = true)\n",
      " |    |    |    |    |    |-- url: string (nullable = true)\n",
      " |    |    |    |    |-- merges_url: string (nullable = true)\n",
      " |    |    |    |    |-- milestones_url: string (nullable = true)\n",
      " |    |    |    |    |-- mirror_url: string (nullable = true)\n",
      " |    |    |    |    |-- name: string (nullable = true)\n",
      " |    |    |    |    |-- node_id: string (nullable = true)\n",
      " |    |    |    |    |-- notifications_url: string (nullable = true)\n",
      " |    |    |    |    |-- open_issues: long (nullable = true)\n",
      " |    |    |    |    |-- open_issues_count: long (nullable = true)\n",
      " |    |    |    |    |-- owner: struct (nullable = true)\n",
      " |    |    |    |    |    |-- avatar_url: string (nullable = true)\n",
      " |    |    |    |    |    |-- events_url: string (nullable = true)\n",
      " |    |    |    |    |    |-- followers_url: string (nullable = true)\n",
      " |    |    |    |    |    |-- following_url: string (nullable = true)\n",
      " |    |    |    |    |    |-- gists_url: string (nullable = true)\n",
      " |    |    |    |    |    |-- gravatar_id: string (nullable = true)\n",
      " |    |    |    |    |    |-- html_url: string (nullable = true)\n",
      " |    |    |    |    |    |-- id: long (nullable = true)\n",
      " |    |    |    |    |    |-- login: string (nullable = true)\n",
      " |    |    |    |    |    |-- node_id: string (nullable = true)\n",
      " |    |    |    |    |    |-- organizations_url: string (nullable = true)\n",
      " |    |    |    |    |    |-- received_events_url: string (nullable = true)\n",
      " |    |    |    |    |    |-- repos_url: string (nullable = true)\n",
      " |    |    |    |    |    |-- site_admin: boolean (nullable = true)\n",
      " |    |    |    |    |    |-- starred_url: string (nullable = true)\n",
      " |    |    |    |    |    |-- subscriptions_url: string (nullable = true)\n",
      " |    |    |    |    |    |-- type: string (nullable = true)\n",
      " |    |    |    |    |    |-- url: string (nullable = true)\n",
      " |    |    |    |    |-- private: boolean (nullable = true)\n",
      " |    |    |    |    |-- pulls_url: string (nullable = true)\n",
      " |    |    |    |    |-- pushed_at: string (nullable = true)\n",
      " |    |    |    |    |-- releases_url: string (nullable = true)\n",
      " |    |    |    |    |-- size: long (nullable = true)\n",
      " |    |    |    |    |-- ssh_url: string (nullable = true)\n",
      " |    |    |    |    |-- stargazers_count: long (nullable = true)\n",
      " |    |    |    |    |-- stargazers_url: string (nullable = true)\n",
      " |    |    |    |    |-- statuses_url: string (nullable = true)\n",
      " |    |    |    |    |-- subscribers_url: string (nullable = true)\n",
      " |    |    |    |    |-- subscription_url: string (nullable = true)\n",
      " |    |    |    |    |-- svn_url: string (nullable = true)\n",
      " |    |    |    |    |-- tags_url: string (nullable = true)\n",
      " |    |    |    |    |-- teams_url: string (nullable = true)\n",
      " |    |    |    |    |-- topics: array (nullable = true)\n",
      " |    |    |    |    |    |-- element: string (containsNull = true)\n",
      " |    |    |    |    |-- trees_url: string (nullable = true)\n",
      " |    |    |    |    |-- updated_at: string (nullable = true)\n",
      " |    |    |    |    |-- url: string (nullable = true)\n",
      " |    |    |    |    |-- visibility: string (nullable = true)\n",
      " |    |    |    |    |-- watchers: long (nullable = true)\n",
      " |    |    |    |    |-- watchers_count: long (nullable = true)\n",
      " |    |    |    |    |-- web_commit_signoff_required: boolean (nullable = true)\n",
      " |    |    |    |-- sha: string (nullable = true)\n",
      " |    |    |    |-- user: struct (nullable = true)\n",
      " |    |    |    |    |-- avatar_url: string (nullable = true)\n",
      " |    |    |    |    |-- events_url: string (nullable = true)\n",
      " |    |    |    |    |-- followers_url: string (nullable = true)\n",
      " |    |    |    |    |-- following_url: string (nullable = true)\n",
      " |    |    |    |    |-- gists_url: string (nullable = true)\n",
      " |    |    |    |    |-- gravatar_id: string (nullable = true)\n",
      " |    |    |    |    |-- html_url: string (nullable = true)\n",
      " |    |    |    |    |-- id: long (nullable = true)\n",
      " |    |    |    |    |-- login: string (nullable = true)\n",
      " |    |    |    |    |-- node_id: string (nullable = true)\n",
      " |    |    |    |    |-- organizations_url: string (nullable = true)\n",
      " |    |    |    |    |-- received_events_url: string (nullable = true)\n",
      " |    |    |    |    |-- repos_url: string (nullable = true)\n",
      " |    |    |    |    |-- site_admin: boolean (nullable = true)\n",
      " |    |    |    |    |-- starred_url: string (nullable = true)\n",
      " |    |    |    |    |-- subscriptions_url: string (nullable = true)\n",
      " |    |    |    |    |-- type: string (nullable = true)\n",
      " |    |    |    |    |-- url: string (nullable = true)\n",
      " |    |    |-- html_url: string (nullable = true)\n",
      " |    |    |-- id: long (nullable = true)\n",
      " |    |    |-- issue_url: string (nullable = true)\n",
      " |    |    |-- labels: array (nullable = true)\n",
      " |    |    |    |-- element: struct (containsNull = true)\n",
      " |    |    |    |    |-- color: string (nullable = true)\n",
      " |    |    |    |    |-- default: boolean (nullable = true)\n",
      " |    |    |    |    |-- description: string (nullable = true)\n",
      " |    |    |    |    |-- id: long (nullable = true)\n",
      " |    |    |    |    |-- name: string (nullable = true)\n",
      " |    |    |    |    |-- node_id: string (nullable = true)\n",
      " |    |    |    |    |-- url: string (nullable = true)\n",
      " |    |    |-- locked: boolean (nullable = true)\n",
      " |    |    |-- maintainer_can_modify: boolean (nullable = true)\n",
      " |    |    |-- merge_commit_sha: string (nullable = true)\n",
      " |    |    |-- mergeable: boolean (nullable = true)\n",
      " |    |    |-- mergeable_state: string (nullable = true)\n",
      " |    |    |-- merged: boolean (nullable = true)\n",
      " |    |    |-- merged_at: string (nullable = true)\n",
      " |    |    |-- merged_by: struct (nullable = true)\n",
      " |    |    |    |-- avatar_url: string (nullable = true)\n",
      " |    |    |    |-- events_url: string (nullable = true)\n",
      " |    |    |    |-- followers_url: string (nullable = true)\n",
      " |    |    |    |-- following_url: string (nullable = true)\n",
      " |    |    |    |-- gists_url: string (nullable = true)\n",
      " |    |    |    |-- gravatar_id: string (nullable = true)\n",
      " |    |    |    |-- html_url: string (nullable = true)\n",
      " |    |    |    |-- id: long (nullable = true)\n",
      " |    |    |    |-- login: string (nullable = true)\n",
      " |    |    |    |-- node_id: string (nullable = true)\n",
      " |    |    |    |-- organizations_url: string (nullable = true)\n",
      " |    |    |    |-- received_events_url: string (nullable = true)\n",
      " |    |    |    |-- repos_url: string (nullable = true)\n",
      " |    |    |    |-- site_admin: boolean (nullable = true)\n",
      " |    |    |    |-- starred_url: string (nullable = true)\n",
      " |    |    |    |-- subscriptions_url: string (nullable = true)\n",
      " |    |    |    |-- type: string (nullable = true)\n",
      " |    |    |    |-- url: string (nullable = true)\n",
      " |    |    |-- milestone: string (nullable = true)\n",
      " |    |    |-- node_id: string (nullable = true)\n",
      " |    |    |-- number: long (nullable = true)\n",
      " |    |    |-- patch_url: string (nullable = true)\n",
      " |    |    |-- rebaseable: boolean (nullable = true)\n",
      " |    |    |-- requested_reviewers: array (nullable = true)\n",
      " |    |    |    |-- element: struct (containsNull = true)\n",
      " |    |    |    |    |-- avatar_url: string (nullable = true)\n",
      " |    |    |    |    |-- events_url: string (nullable = true)\n",
      " |    |    |    |    |-- followers_url: string (nullable = true)\n",
      " |    |    |    |    |-- following_url: string (nullable = true)\n",
      " |    |    |    |    |-- gists_url: string (nullable = true)\n",
      " |    |    |    |    |-- gravatar_id: string (nullable = true)\n",
      " |    |    |    |    |-- html_url: string (nullable = true)\n",
      " |    |    |    |    |-- id: long (nullable = true)\n",
      " |    |    |    |    |-- login: string (nullable = true)\n",
      " |    |    |    |    |-- node_id: string (nullable = true)\n",
      " |    |    |    |    |-- organizations_url: string (nullable = true)\n",
      " |    |    |    |    |-- received_events_url: string (nullable = true)\n",
      " |    |    |    |    |-- repos_url: string (nullable = true)\n",
      " |    |    |    |    |-- site_admin: boolean (nullable = true)\n",
      " |    |    |    |    |-- starred_url: string (nullable = true)\n",
      " |    |    |    |    |-- subscriptions_url: string (nullable = true)\n",
      " |    |    |    |    |-- type: string (nullable = true)\n",
      " |    |    |    |    |-- url: string (nullable = true)\n",
      " |    |    |-- requested_teams: array (nullable = true)\n",
      " |    |    |    |-- element: string (containsNull = true)\n",
      " |    |    |-- review_comment_url: string (nullable = true)\n",
      " |    |    |-- review_comments: long (nullable = true)\n",
      " |    |    |-- review_comments_url: string (nullable = true)\n",
      " |    |    |-- state: string (nullable = true)\n",
      " |    |    |-- statuses_url: string (nullable = true)\n",
      " |    |    |-- title: string (nullable = true)\n",
      " |    |    |-- updated_at: string (nullable = true)\n",
      " |    |    |-- url: string (nullable = true)\n",
      " |    |    |-- user: struct (nullable = true)\n",
      " |    |    |    |-- avatar_url: string (nullable = true)\n",
      " |    |    |    |-- events_url: string (nullable = true)\n",
      " |    |    |    |-- followers_url: string (nullable = true)\n",
      " |    |    |    |-- following_url: string (nullable = true)\n",
      " |    |    |    |-- gists_url: string (nullable = true)\n",
      " |    |    |    |-- gravatar_id: string (nullable = true)\n",
      " |    |    |    |-- html_url: string (nullable = true)\n",
      " |    |    |    |-- id: long (nullable = true)\n",
      " |    |    |    |-- login: string (nullable = true)\n",
      " |    |    |    |-- node_id: string (nullable = true)\n",
      " |    |    |    |-- organizations_url: string (nullable = true)\n",
      " |    |    |    |-- received_events_url: string (nullable = true)\n",
      " |    |    |    |-- repos_url: string (nullable = true)\n",
      " |    |    |    |-- site_admin: boolean (nullable = true)\n",
      " |    |    |    |-- starred_url: string (nullable = true)\n",
      " |    |    |    |-- subscriptions_url: string (nullable = true)\n",
      " |    |    |    |-- type: string (nullable = true)\n",
      " |    |    |    |-- url: string (nullable = true)\n",
      " |    |-- push_id: long (nullable = true)\n",
      " |    |-- pusher_type: string (nullable = true)\n",
      " |    |-- ref: string (nullable = true)\n",
      " |    |-- ref_type: string (nullable = true)\n",
      " |    |-- release: struct (nullable = true)\n",
      " |    |    |-- assets: array (nullable = true)\n",
      " |    |    |    |-- element: string (containsNull = true)\n",
      " |    |    |-- assets_url: string (nullable = true)\n",
      " |    |    |-- author: struct (nullable = true)\n",
      " |    |    |    |-- avatar_url: string (nullable = true)\n",
      " |    |    |    |-- events_url: string (nullable = true)\n",
      " |    |    |    |-- followers_url: string (nullable = true)\n",
      " |    |    |    |-- following_url: string (nullable = true)\n",
      " |    |    |    |-- gists_url: string (nullable = true)\n",
      " |    |    |    |-- gravatar_id: string (nullable = true)\n",
      " |    |    |    |-- html_url: string (nullable = true)\n",
      " |    |    |    |-- id: long (nullable = true)\n",
      " |    |    |    |-- login: string (nullable = true)\n",
      " |    |    |    |-- node_id: string (nullable = true)\n",
      " |    |    |    |-- organizations_url: string (nullable = true)\n",
      " |    |    |    |-- received_events_url: string (nullable = true)\n",
      " |    |    |    |-- repos_url: string (nullable = true)\n",
      " |    |    |    |-- site_admin: boolean (nullable = true)\n",
      " |    |    |    |-- starred_url: string (nullable = true)\n",
      " |    |    |    |-- subscriptions_url: string (nullable = true)\n",
      " |    |    |    |-- type: string (nullable = true)\n",
      " |    |    |    |-- url: string (nullable = true)\n",
      " |    |    |-- body: string (nullable = true)\n",
      " |    |    |-- created_at: string (nullable = true)\n",
      " |    |    |-- draft: boolean (nullable = true)\n",
      " |    |    |-- html_url: string (nullable = true)\n",
      " |    |    |-- id: long (nullable = true)\n",
      " |    |    |-- is_short_description_html_truncated: boolean (nullable = true)\n",
      " |    |    |-- mentions: array (nullable = true)\n",
      " |    |    |    |-- element: struct (containsNull = true)\n",
      " |    |    |    |    |-- avatar_url: string (nullable = true)\n",
      " |    |    |    |    |-- avatar_user_actor: boolean (nullable = true)\n",
      " |    |    |    |    |-- login: string (nullable = true)\n",
      " |    |    |    |    |-- profile_name: string (nullable = true)\n",
      " |    |    |    |    |-- profile_url: string (nullable = true)\n",
      " |    |    |-- mentions_count: long (nullable = true)\n",
      " |    |    |-- name: string (nullable = true)\n",
      " |    |    |-- node_id: string (nullable = true)\n",
      " |    |    |-- prerelease: boolean (nullable = true)\n",
      " |    |    |-- published_at: string (nullable = true)\n",
      " |    |    |-- short_description_html: string (nullable = true)\n",
      " |    |    |-- tag_name: string (nullable = true)\n",
      " |    |    |-- tarball_url: string (nullable = true)\n",
      " |    |    |-- target_commitish: string (nullable = true)\n",
      " |    |    |-- upload_url: string (nullable = true)\n",
      " |    |    |-- url: string (nullable = true)\n",
      " |    |    |-- zipball_url: string (nullable = true)\n",
      " |    |-- review: struct (nullable = true)\n",
      " |    |    |-- _links: struct (nullable = true)\n",
      " |    |    |    |-- html: struct (nullable = true)\n",
      " |    |    |    |    |-- href: string (nullable = true)\n",
      " |    |    |    |-- pull_request: struct (nullable = true)\n",
      " |    |    |    |    |-- href: string (nullable = true)\n",
      " |    |    |-- author_association: string (nullable = true)\n",
      " |    |    |-- body: string (nullable = true)\n",
      " |    |    |-- commit_id: string (nullable = true)\n",
      " |    |    |-- html_url: string (nullable = true)\n",
      " |    |    |-- id: long (nullable = true)\n",
      " |    |    |-- node_id: string (nullable = true)\n",
      " |    |    |-- pull_request_url: string (nullable = true)\n",
      " |    |    |-- state: string (nullable = true)\n",
      " |    |    |-- submitted_at: string (nullable = true)\n",
      " |    |    |-- user: struct (nullable = true)\n",
      " |    |    |    |-- avatar_url: string (nullable = true)\n",
      " |    |    |    |-- events_url: string (nullable = true)\n",
      " |    |    |    |-- followers_url: string (nullable = true)\n",
      " |    |    |    |-- following_url: string (nullable = true)\n",
      " |    |    |    |-- gists_url: string (nullable = true)\n",
      " |    |    |    |-- gravatar_id: string (nullable = true)\n",
      " |    |    |    |-- html_url: string (nullable = true)\n",
      " |    |    |    |-- id: long (nullable = true)\n",
      " |    |    |    |-- login: string (nullable = true)\n",
      " |    |    |    |-- node_id: string (nullable = true)\n",
      " |    |    |    |-- organizations_url: string (nullable = true)\n",
      " |    |    |    |-- received_events_url: string (nullable = true)\n",
      " |    |    |    |-- repos_url: string (nullable = true)\n",
      " |    |    |    |-- site_admin: boolean (nullable = true)\n",
      " |    |    |    |-- starred_url: string (nullable = true)\n",
      " |    |    |    |-- subscriptions_url: string (nullable = true)\n",
      " |    |    |    |-- type: string (nullable = true)\n",
      " |    |    |    |-- url: string (nullable = true)\n",
      " |    |-- size: long (nullable = true)\n",
      " |-- public: boolean (nullable = true)\n",
      " |-- repo: struct (nullable = true)\n",
      " |    |-- id: long (nullable = true)\n",
      " |    |-- name: string (nullable = true)\n",
      " |    |-- url: string (nullable = true)\n",
      " |-- type: string (nullable = true)\n",
      "\n"
     ]
    }
   ],
   "source": [
    "data.printSchema()"
   ]
  },
  {
   "cell_type": "code",
   "execution_count": 14,
   "metadata": {
    "colab": {
     "base_uri": "https://localhost:8080/"
    },
    "executionInfo": {
     "elapsed": 2986,
     "status": "ok",
     "timestamp": 1711709904251,
     "user": {
      "displayName": "Piyanat Thepsueb",
      "userId": "10421023849786557238"
     },
     "user_tz": -420
    },
    "id": "ziLNk_ccRrl2",
    "outputId": "8c283dd8-152e-4be0-c749-6c1ddc05a932"
   },
   "outputs": [
    {
     "name": "stdout",
     "output_type": "stream",
     "text": [
      "+-----------+--------------------+\n",
      "|         id|                type|\n",
      "+-----------+--------------------+\n",
      "|23487985360|           PushEvent|\n",
      "|23487985346|PullRequestReview...|\n",
      "|23487985321|PullRequestReview...|\n",
      "|23487985350|PullRequestReview...|\n",
      "|23487985373|PullRequestReview...|\n",
      "|23487985331|PullRequestReview...|\n",
      "|23487985353|         IssuesEvent|\n",
      "|23487985271|           PushEvent|\n",
      "|23487985289|           PushEvent|\n",
      "|23487985292|          WatchEvent|\n",
      "|23487985343|          WatchEvent|\n",
      "|23487985312|         IssuesEvent|\n",
      "|23487985326|PullRequestReview...|\n",
      "|23487985276|           PushEvent|\n",
      "|23487985280|           PushEvent|\n",
      "|23487985281|           PushEvent|\n",
      "|23487985272|           PushEvent|\n",
      "|23487985270|         CreateEvent|\n",
      "|23487985293|    PullRequestEvent|\n",
      "|23487985250|PullRequestReview...|\n",
      "+-----------+--------------------+\n",
      "only showing top 20 rows\n",
      "\n"
     ]
    }
   ],
   "source": [
    "data.select(\"id\", \"type\").show()"
   ]
  },
  {
   "cell_type": "markdown",
   "metadata": {
    "id": "I8UWflS1571W"
   },
   "source": [
    "### Create temporary Table for read Dataframe"
   ]
  },
  {
   "cell_type": "code",
   "execution_count": 15,
   "metadata": {
    "executionInfo": {
     "elapsed": 3,
     "status": "ok",
     "timestamp": 1711709904251,
     "user": {
      "displayName": "Piyanat Thepsueb",
      "userId": "10421023849786557238"
     },
     "user_tz": -420
    },
    "id": "Q67oY6StUpNK"
   },
   "outputs": [],
   "source": [
    "data.createOrReplaceTempView(\"staging_events\")"
   ]
  },
  {
   "cell_type": "code",
   "execution_count": 16,
   "metadata": {
    "colab": {
     "base_uri": "https://localhost:8080/"
    },
    "executionInfo": {
     "elapsed": 4101,
     "status": "ok",
     "timestamp": 1711709908350,
     "user": {
      "displayName": "Piyanat Thepsueb",
      "userId": "10421023849786557238"
     },
     "user_tz": -420
    },
    "id": "__M8csOlUpKi",
    "outputId": "78250998-a902-40b7-d4cc-63416abb3b09"
   },
   "outputs": [
    {
     "name": "stdout",
     "output_type": "stream",
     "text": [
      "+--------------------+--------------------+-----------+--------------------+--------------------+------+--------------------+--------------------+\n",
      "|               actor|          created_at|         id|                 org|             payload|public|                repo|                type|\n",
      "+--------------------+--------------------+-----------+--------------------+--------------------+------+--------------------+--------------------+\n",
      "|{https://avatars....|2022-08-17T15:53:42Z|23487985360|                NULL|{NULL, c61cf9149b...|  true|{523499555, emine...|           PushEvent|\n",
      "|{https://avatars....|2022-08-17T15:50:35Z|23487985346|{https://avatars....|{created, NULL, {...|  true|{47574295, cncf/t...|PullRequestReview...|\n",
      "|{https://avatars....|2022-08-17T15:53:42Z|23487985321|{https://avatars....|{created, NULL, N...|  true|{47574295, cncf/t...|PullRequestReview...|\n",
      "|{https://avatars....|2022-08-17T15:53:42Z|23487985350|                NULL|{created, NULL, N...|  true|{518116339, Hatth...|PullRequestReview...|\n",
      "|{https://avatars....|2022-08-17T15:24:44Z|23487985373|                NULL|{created, NULL, {...|  true|{518116339, Hatth...|PullRequestReview...|\n",
      "|{https://avatars....|2022-08-17T15:23:27Z|23487985331|                NULL|{created, NULL, {...|  true|{518116339, Hatth...|PullRequestReview...|\n",
      "|{https://avatars....|2022-08-17T15:53:42Z|23487985353|                NULL|{opened, NULL, NU...|  true|{294616630, alexi...|         IssuesEvent|\n",
      "|{https://avatars....|2022-08-17T15:53:42Z|23487985271|                NULL|{NULL, 3546fc9c00...|  true|{348289466, vacse...|           PushEvent|\n",
      "|{https://avatars....|2022-08-17T15:53:42Z|23487985289|{https://avatars....|{NULL, e361b1650a...|  true|{525468623, IOTJu...|           PushEvent|\n",
      "|{https://avatars....|2022-08-17T15:53:42Z|23487985292|{https://avatars....|{started, NULL, N...|  true|{7895941, scala-g...|          WatchEvent|\n",
      "|{https://avatars....|2022-08-17T15:53:42Z|23487985343|{https://avatars....|{started, NULL, N...|  true|{496556366, hackc...|          WatchEvent|\n",
      "|{https://avatars....|2022-08-17T15:53:42Z|23487985312|{https://avatars....|{closed, NULL, NU...|  true|{181560846, tesse...|         IssuesEvent|\n",
      "|{https://avatars....|2022-08-17T15:24:10Z|23487985326|                NULL|{created, NULL, {...|  true|{518116339, Hatth...|PullRequestReview...|\n",
      "|{https://avatars....|2022-08-17T15:53:42Z|23487985276|                NULL|{NULL, 73a9ef0e68...|  true|{522104148, Vlynn...|           PushEvent|\n",
      "|{https://avatars....|2022-08-17T15:53:42Z|23487985280|                NULL|{NULL, d38f2d5d44...|  true|{513139142, svilk...|           PushEvent|\n",
      "|{https://avatars....|2022-08-17T15:53:42Z|23487985281|                NULL|{NULL, 304bfafffc...|  true|{523970273, restl...|           PushEvent|\n",
      "|{https://avatars....|2022-08-17T15:53:42Z|23487985272|                NULL|{NULL, 6fe128d984...|  true|{525129775, marku...|           PushEvent|\n",
      "|{https://avatars....|2022-08-17T15:53:42Z|23487985270|                NULL|{NULL, NULL, NULL...|  true|{525861309, laure...|         CreateEvent|\n",
      "|{https://avatars....|2022-08-17T15:53:42Z|23487985293|                NULL|{closed, NULL, NU...|  true|{477668666, spdtf...|    PullRequestEvent|\n",
      "|{https://avatars....|2022-08-17T15:53:42Z|23487985250|{https://avatars....|{created, NULL, N...|  true|{47574295, cncf/t...|PullRequestReview...|\n",
      "+--------------------+--------------------+-----------+--------------------+--------------------+------+--------------------+--------------------+\n",
      "only showing top 20 rows\n",
      "\n"
     ]
    }
   ],
   "source": [
    "table = spark.sql(\"\"\"\n",
    "    select\n",
    "        *\n",
    "\n",
    "    from\n",
    "        staging_events\n",
    "\"\"\").show()"
   ]
  },
  {
   "cell_type": "markdown",
   "metadata": {
    "id": "zmZNp4Yv6Xxl"
   },
   "source": [
    "### Restructure Tempory Table"
   ]
  },
  {
   "cell_type": "code",
   "execution_count": 17,
   "metadata": {
    "executionInfo": {
     "elapsed": 557,
     "status": "ok",
     "timestamp": 1711709908896,
     "user": {
      "displayName": "Piyanat Thepsueb",
      "userId": "10421023849786557238"
     },
     "user_tz": -420
    },
    "id": "W0m_AIyoUpHa"
   },
   "outputs": [],
   "source": [
    "table = spark.sql(\"\"\"\n",
    "    select\n",
    "        id\n",
    "        , type\n",
    "        , created_at\n",
    "        , to_date(created_at) as date\n",
    "        , year(created_at) as year\n",
    "        , actor.login\n",
    "        , actor.url as actor_url\n",
    "        , repo.name\n",
    "        , repo.url as repo_url\n",
    "\n",
    "    from\n",
    "        staging_events\n",
    "\"\"\")"
   ]
  },
  {
   "cell_type": "code",
   "execution_count": 18,
   "metadata": {
    "colab": {
     "base_uri": "https://localhost:8080/"
    },
    "executionInfo": {
     "elapsed": 2567,
     "status": "ok",
     "timestamp": 1711709911459,
     "user": {
      "displayName": "Piyanat Thepsueb",
      "userId": "10421023849786557238"
     },
     "user_tz": -420
    },
    "id": "hpIajo09UpEi",
    "outputId": "05bcb6f7-8abd-4a47-d858-66a1f7583934"
   },
   "outputs": [
    {
     "name": "stdout",
     "output_type": "stream",
     "text": [
      "+-----------+--------------------+--------------------+----------+----+-----------------+--------------------+--------------------+--------------------+\n",
      "|         id|                type|          created_at|      date|year|            login|           actor_url|                name|            repo_url|\n",
      "+-----------+--------------------+--------------------+----------+----+-----------------+--------------------+--------------------+--------------------+\n",
      "|23487985360|           PushEvent|2022-08-17T15:53:42Z|2022-08-17|2022|       emineliyev|https://api.githu...|emineliyev/mtv_pr...|https://api.githu...|\n",
      "|23487985346|PullRequestReview...|2022-08-17T15:50:35Z|2022-08-17|2022|        by-d-sign|https://api.githu...|            cncf/toc|https://api.githu...|\n",
      "|23487985321|PullRequestReview...|2022-08-17T15:53:42Z|2022-08-17|2022|        by-d-sign|https://api.githu...|            cncf/toc|https://api.githu...|\n",
      "|23487985350|PullRequestReview...|2022-08-17T15:53:42Z|2022-08-17|2022|         ausmoons|https://api.githu...|Hatthatteryhathat...|https://api.githu...|\n",
      "|23487985373|PullRequestReview...|2022-08-17T15:24:44Z|2022-08-17|2022|         ausmoons|https://api.githu...|Hatthatteryhathat...|https://api.githu...|\n",
      "|23487985331|PullRequestReview...|2022-08-17T15:23:27Z|2022-08-17|2022|         ausmoons|https://api.githu...|Hatthatteryhathat...|https://api.githu...|\n",
      "|23487985353|         IssuesEvent|2022-08-17T15:53:42Z|2022-08-17|2022|          Gbislay|https://api.githu...|alexis-luna/codei...|https://api.githu...|\n",
      "|23487985271|           PushEvent|2022-08-17T15:53:42Z|2022-08-17|2022|        vacseeker|https://api.githu...|vacseeker/vacseek...|https://api.githu...|\n",
      "|23487985289|           PushEvent|2022-08-17T15:53:42Z|2022-08-17|2022|       EliOceanak|https://api.githu...|IOTJuly2022/Oniwa...|https://api.githu...|\n",
      "|23487985292|          WatchEvent|2022-08-17T15:53:42Z|2022-08-17|2022|          retarpt|https://api.githu...|scala-graph/scala...|https://api.githu...|\n",
      "|23487985343|          WatchEvent|2022-08-17T15:53:42Z|2022-08-17|2022|         bellesea|https://api.githu...|   hackclub/assemble|https://api.githu...|\n",
      "|23487985312|         IssuesEvent|2022-08-17T15:53:42Z|2022-08-17|2022|         palamago|https://api.githu...|tesseract-olap/te...|https://api.githu...|\n",
      "|23487985326|PullRequestReview...|2022-08-17T15:24:10Z|2022-08-17|2022|         ausmoons|https://api.githu...|Hatthatteryhathat...|https://api.githu...|\n",
      "|23487985276|           PushEvent|2022-08-17T15:53:42Z|2022-08-17|2022|          Vlynn01|https://api.githu...| Vlynn01/Bai-tap-MD1|https://api.githu...|\n",
      "|23487985280|           PushEvent|2022-08-17T15:53:42Z|2022-08-17|2022|         svilkata|https://api.githu...|svilkata/computer...|https://api.githu...|\n",
      "|23487985281|           PushEvent|2022-08-17T15:53:42Z|2022-08-17|2022|    restlessronin|https://api.githu...|restlessronin/lil...|https://api.githu...|\n",
      "|23487985272|           PushEvent|2022-08-17T15:53:42Z|2022-08-17|2022|         markus-k|https://api.githu...|markus-k/go-echar...|https://api.githu...|\n",
      "|23487985270|         CreateEvent|2022-08-17T15:53:42Z|2022-08-17|2022|lauretteisingizwe|https://api.githu...|lauretteisingizwe...|https://api.githu...|\n",
      "|23487985293|    PullRequestEvent|2022-08-17T15:53:42Z|2022-08-17|2022|            spdtf|https://api.githu...|     spdtf/terraform|https://api.githu...|\n",
      "|23487985250|PullRequestReview...|2022-08-17T15:53:42Z|2022-08-17|2022|        by-d-sign|https://api.githu...|            cncf/toc|https://api.githu...|\n",
      "+-----------+--------------------+--------------------+----------+----+-----------------+--------------------+--------------------+--------------------+\n",
      "only showing top 20 rows\n",
      "\n"
     ]
    }
   ],
   "source": [
    "table.show()"
   ]
  },
  {
   "cell_type": "markdown",
   "metadata": {
    "id": "6HptEtEk6hkm"
   },
   "source": [
    "### Save Structured Data im Cleaned Zone\n"
   ]
  },
  {
   "cell_type": "code",
   "execution_count": 19,
   "metadata": {
    "executionInfo": {
     "elapsed": 41632,
     "status": "ok",
     "timestamp": 1711709953089,
     "user": {
      "displayName": "Piyanat Thepsueb",
      "userId": "10421023849786557238"
     },
     "user_tz": -420
    },
    "id": "SjG_8A4IUpBp"
   },
   "outputs": [],
   "source": [
    "table.write.partitionBy(\"year\").mode(\"overwrite\").csv(cleaned_zone_csv )"
   ]
  },
  {
   "cell_type": "code",
   "execution_count": 20,
   "metadata": {
    "executionInfo": {
     "elapsed": 39290,
     "status": "ok",
     "timestamp": 1711709992368,
     "user": {
      "displayName": "Piyanat Thepsueb",
      "userId": "10421023849786557238"
     },
     "user_tz": -420
    },
    "id": "AN6RVrTyUo-q"
   },
   "outputs": [],
   "source": [
    "table.write.partitionBy(\"year\").mode(\"overwrite\").parquet(cleaned_zone_parquet)"
   ]
  },
  {
   "cell_type": "markdown",
   "metadata": {
    "id": "va4-zHv46rLm"
   },
   "source": [
    "### Create the Events Table"
   ]
  },
  {
   "cell_type": "code",
   "execution_count": 21,
   "metadata": {
    "executionInfo": {
     "elapsed": 16,
     "status": "ok",
     "timestamp": 1711709992369,
     "user": {
      "displayName": "Piyanat Thepsueb",
      "userId": "10421023849786557238"
     },
     "user_tz": -420
    },
    "id": "mAnVur4fUo7z"
   },
   "outputs": [],
   "source": [
    "table = spark.sql(\"\"\"\n",
    "    select\n",
    "        id\n",
    "        , type\n",
    "        , created_at\n",
    "        , day(created_at) as day\n",
    "        , month(created_at) as month\n",
    "        , year(created_at) as year\n",
    "        , date(created_at) as date\n",
    "    from\n",
    "        staging_events\n",
    "\"\"\")"
   ]
  },
  {
   "cell_type": "code",
   "execution_count": 22,
   "metadata": {
    "colab": {
     "base_uri": "https://localhost:8080/"
    },
    "executionInfo": {
     "elapsed": 2681,
     "status": "ok",
     "timestamp": 1711709995034,
     "user": {
      "displayName": "Piyanat Thepsueb",
      "userId": "10421023849786557238"
     },
     "user_tz": -420
    },
    "id": "OVkVWg8cV00i",
    "outputId": "7d253e0b-e722-4de6-8f56-1779cb67ecaf"
   },
   "outputs": [
    {
     "name": "stdout",
     "output_type": "stream",
     "text": [
      "+-----------+--------------------+--------------------+---+-----+----+----------+\n",
      "|         id|                type|          created_at|day|month|year|      date|\n",
      "+-----------+--------------------+--------------------+---+-----+----+----------+\n",
      "|23487985360|           PushEvent|2022-08-17T15:53:42Z| 17|    8|2022|2022-08-17|\n",
      "|23487985346|PullRequestReview...|2022-08-17T15:50:35Z| 17|    8|2022|2022-08-17|\n",
      "|23487985321|PullRequestReview...|2022-08-17T15:53:42Z| 17|    8|2022|2022-08-17|\n",
      "|23487985350|PullRequestReview...|2022-08-17T15:53:42Z| 17|    8|2022|2022-08-17|\n",
      "|23487985373|PullRequestReview...|2022-08-17T15:24:44Z| 17|    8|2022|2022-08-17|\n",
      "|23487985331|PullRequestReview...|2022-08-17T15:23:27Z| 17|    8|2022|2022-08-17|\n",
      "|23487985353|         IssuesEvent|2022-08-17T15:53:42Z| 17|    8|2022|2022-08-17|\n",
      "|23487985271|           PushEvent|2022-08-17T15:53:42Z| 17|    8|2022|2022-08-17|\n",
      "|23487985289|           PushEvent|2022-08-17T15:53:42Z| 17|    8|2022|2022-08-17|\n",
      "|23487985292|          WatchEvent|2022-08-17T15:53:42Z| 17|    8|2022|2022-08-17|\n",
      "|23487985343|          WatchEvent|2022-08-17T15:53:42Z| 17|    8|2022|2022-08-17|\n",
      "|23487985312|         IssuesEvent|2022-08-17T15:53:42Z| 17|    8|2022|2022-08-17|\n",
      "|23487985326|PullRequestReview...|2022-08-17T15:24:10Z| 17|    8|2022|2022-08-17|\n",
      "|23487985276|           PushEvent|2022-08-17T15:53:42Z| 17|    8|2022|2022-08-17|\n",
      "|23487985280|           PushEvent|2022-08-17T15:53:42Z| 17|    8|2022|2022-08-17|\n",
      "|23487985281|           PushEvent|2022-08-17T15:53:42Z| 17|    8|2022|2022-08-17|\n",
      "|23487985272|           PushEvent|2022-08-17T15:53:42Z| 17|    8|2022|2022-08-17|\n",
      "|23487985270|         CreateEvent|2022-08-17T15:53:42Z| 17|    8|2022|2022-08-17|\n",
      "|23487985293|    PullRequestEvent|2022-08-17T15:53:42Z| 17|    8|2022|2022-08-17|\n",
      "|23487985250|PullRequestReview...|2022-08-17T15:53:42Z| 17|    8|2022|2022-08-17|\n",
      "+-----------+--------------------+--------------------+---+-----+----+----------+\n",
      "only showing top 20 rows\n",
      "\n"
     ]
    }
   ],
   "source": [
    "table.show()"
   ]
  },
  {
   "cell_type": "code",
   "execution_count": 23,
   "metadata": {
    "executionInfo": {
     "elapsed": 42720,
     "status": "ok",
     "timestamp": 1711710037753,
     "user": {
      "displayName": "Piyanat Thepsueb",
      "userId": "10421023849786557238"
     },
     "user_tz": -420
    },
    "id": "mnO3QcbuV3jK"
   },
   "outputs": [],
   "source": [
    "table.write.partitionBy(\"year\", \"month\", \"day\").mode(\"overwrite\").csv(events_dir)"
   ]
  },
  {
   "cell_type": "code",
   "execution_count": 24,
   "metadata": {
    "executionInfo": {
     "elapsed": 40788,
     "status": "ok",
     "timestamp": 1711710078531,
     "user": {
      "displayName": "Piyanat Thepsueb",
      "userId": "10421023849786557238"
     },
     "user_tz": -420
    },
    "id": "ZVT59wsPWZ04"
   },
   "outputs": [],
   "source": [
    "table.write.partitionBy(\"date\").mode(\"overwrite\").csv(events_dir)"
   ]
  },
  {
   "cell_type": "code",
   "execution_count": 25,
   "metadata": {
    "executionInfo": {
     "elapsed": 35981,
     "status": "ok",
     "timestamp": 1711710114501,
     "user": {
      "displayName": "Piyanat Thepsueb",
      "userId": "10421023849786557238"
     },
     "user_tz": -420
    },
    "id": "yzCN-A4PWZyL"
   },
   "outputs": [],
   "source": [
    "table = spark.sql(\"\"\"\n",
    "    select\n",
    "        actor.login\n",
    "        , id as event_id\n",
    "        , actor.url as actor_url\n",
    "    from\n",
    "        staging_events\n",
    "\"\"\")\n",
    "destination = \"actors\"\n",
    "table.write.mode(\"overwrite\").csv(events_dir)"
   ]
  },
  {
   "cell_type": "code",
   "execution_count": 26,
   "metadata": {
    "executionInfo": {
     "elapsed": 38107,
     "status": "ok",
     "timestamp": 1711710152595,
     "user": {
      "displayName": "Piyanat Thepsueb",
      "userId": "10421023849786557238"
     },
     "user_tz": -420
    },
    "id": "OfqOyGfuWZvR"
   },
   "outputs": [],
   "source": [
    "table = spark.sql(\"\"\"\n",
    "    select\n",
    "        repo.name\n",
    "        , id as event_id\n",
    "        , repo.url as repo_url\n",
    "\n",
    "    from\n",
    "        staging_events\n",
    "\"\"\")\n",
    "destination = \"repos\"\n",
    "table.write.mode(\"overwrite\").csv(events_dir)"
   ]
  }
 ],
 "metadata": {
  "colab": {
   "authorship_tag": "ABX9TyODdsqfgOjfs+FiRATTh/Zs",
   "provenance": []
  },
  "kernelspec": {
   "display_name": "Python 3 (ipykernel)",
   "language": "python",
   "name": "python3"
  },
  "language_info": {
   "codemirror_mode": {
    "name": "ipython",
    "version": 3
   },
   "file_extension": ".py",
   "mimetype": "text/x-python",
   "name": "python",
   "nbconvert_exporter": "python",
   "pygments_lexer": "ipython3",
   "version": "3.11.6"
  }
 },
 "nbformat": 4,
 "nbformat_minor": 4
}
